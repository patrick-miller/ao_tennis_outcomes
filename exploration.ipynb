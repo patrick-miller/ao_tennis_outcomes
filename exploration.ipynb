{
 "cells": [
  {
   "cell_type": "code",
   "execution_count": 24,
   "metadata": {},
   "outputs": [
    {
     "name": "stderr",
     "output_type": "stream",
     "text": [
      "/opt/conda/lib/python3.6/site-packages/statsmodels/compat/pandas.py:56: FutureWarning: The pandas.core.datetools module is deprecated and will be removed in a future version. Please use the pandas.tseries module instead.\n",
      "  from pandas.core import datetools\n"
     ]
    }
   ],
   "source": [
    "import os\n",
    "import pandas as pd\n",
    "import plotnine as p9"
   ]
  },
  {
   "cell_type": "code",
   "execution_count": 15,
   "metadata": {
    "collapsed": true
   },
   "outputs": [],
   "source": [
    "def load_tennis_data(partition='train', data_dir='data/'):\n",
    "    df_mens = pd.read_csv(os.path.join(data_dir, 'mens_%s_file.csv' % partition))\n",
    "    df_womens = pd.read_csv(os.path.join(data_dir, 'womens_%s_file.csv' % partition))\n",
    "    \n",
    "    return df_mens.append(df_womens)"
   ]
  },
  {
   "cell_type": "markdown",
   "metadata": {},
   "source": [
    "## Load training data"
   ]
  },
  {
   "cell_type": "code",
   "execution_count": 23,
   "metadata": {},
   "outputs": [
    {
     "data": {
      "text/html": [
       "<div>\n",
       "<style scoped>\n",
       "    .dataframe tbody tr th:only-of-type {\n",
       "        vertical-align: middle;\n",
       "    }\n",
       "\n",
       "    .dataframe tbody tr th {\n",
       "        vertical-align: top;\n",
       "    }\n",
       "\n",
       "    .dataframe thead th {\n",
       "        text-align: right;\n",
       "    }\n",
       "</style>\n",
       "<table border=\"1\" class=\"dataframe\">\n",
       "  <thead>\n",
       "    <tr style=\"text-align: right;\">\n",
       "      <th></th>\n",
       "      <th>rally</th>\n",
       "      <th>serve</th>\n",
       "      <th>speed</th>\n",
       "      <th>net.clearance</th>\n",
       "      <th>distance.from.sideline</th>\n",
       "      <th>depth</th>\n",
       "      <th>player.distance.travelled</th>\n",
       "      <th>player.impact.depth</th>\n",
       "      <th>player.impact.distance.from.center</th>\n",
       "      <th>player.depth</th>\n",
       "      <th>player.distance.from.center</th>\n",
       "      <th>previous.speed</th>\n",
       "      <th>previous.net.clearance</th>\n",
       "      <th>previous.distance.from.sideline</th>\n",
       "      <th>previous.depth</th>\n",
       "      <th>opponent.depth</th>\n",
       "      <th>opponent.distance.from.center</th>\n",
       "      <th>previous.time.to.net</th>\n",
       "      <th>id</th>\n",
       "      <th>train</th>\n",
       "    </tr>\n",
       "  </thead>\n",
       "  <tbody>\n",
       "    <tr>\n",
       "      <th>count</th>\n",
       "      <td>10000.000000</td>\n",
       "      <td>10000.000000</td>\n",
       "      <td>10000.000000</td>\n",
       "      <td>10000.000000</td>\n",
       "      <td>10000.000000</td>\n",
       "      <td>10000.000000</td>\n",
       "      <td>10000.000000</td>\n",
       "      <td>10000.000000</td>\n",
       "      <td>10000.000000</td>\n",
       "      <td>10000.000000</td>\n",
       "      <td>1.000000e+04</td>\n",
       "      <td>10000.000000</td>\n",
       "      <td>10000.000000</td>\n",
       "      <td>10000.000000</td>\n",
       "      <td>10000.000000</td>\n",
       "      <td>10000.000000</td>\n",
       "      <td>10000.000000</td>\n",
       "      <td>10000.000000</td>\n",
       "      <td>10000.000000</td>\n",
       "      <td>10000.0</td>\n",
       "    </tr>\n",
       "    <tr>\n",
       "      <th>mean</th>\n",
       "      <td>5.961000</td>\n",
       "      <td>1.397100</td>\n",
       "      <td>30.837528</td>\n",
       "      <td>0.628731</td>\n",
       "      <td>1.470490</td>\n",
       "      <td>4.425296</td>\n",
       "      <td>2.711269</td>\n",
       "      <td>11.896579</td>\n",
       "      <td>1.927651</td>\n",
       "      <td>12.267400</td>\n",
       "      <td>1.215074e+00</td>\n",
       "      <td>28.768706</td>\n",
       "      <td>0.824491</td>\n",
       "      <td>2.189598</td>\n",
       "      <td>4.227238</td>\n",
       "      <td>12.623845</td>\n",
       "      <td>2.363476</td>\n",
       "      <td>0.551299</td>\n",
       "      <td>3922.820100</td>\n",
       "      <td>1.0</td>\n",
       "    </tr>\n",
       "    <tr>\n",
       "      <th>std</th>\n",
       "      <td>3.519789</td>\n",
       "      <td>0.489322</td>\n",
       "      <td>7.281336</td>\n",
       "      <td>0.976661</td>\n",
       "      <td>1.121512</td>\n",
       "      <td>3.127562</td>\n",
       "      <td>1.723021</td>\n",
       "      <td>2.800985</td>\n",
       "      <td>1.206538</td>\n",
       "      <td>2.039185</td>\n",
       "      <td>9.638810e-01</td>\n",
       "      <td>6.502463</td>\n",
       "      <td>0.681007</td>\n",
       "      <td>1.038526</td>\n",
       "      <td>2.064763</td>\n",
       "      <td>2.070811</td>\n",
       "      <td>1.312900</td>\n",
       "      <td>0.189259</td>\n",
       "      <td>2464.910637</td>\n",
       "      <td>0.0</td>\n",
       "    </tr>\n",
       "    <tr>\n",
       "      <th>min</th>\n",
       "      <td>3.000000</td>\n",
       "      <td>1.000000</td>\n",
       "      <td>5.176078</td>\n",
       "      <td>-0.998184</td>\n",
       "      <td>0.000378</td>\n",
       "      <td>0.000282</td>\n",
       "      <td>0.000000</td>\n",
       "      <td>2.156000</td>\n",
       "      <td>0.000200</td>\n",
       "      <td>1.389800</td>\n",
       "      <td>3.330000e-17</td>\n",
       "      <td>7.192505</td>\n",
       "      <td>0.016645</td>\n",
       "      <td>0.000164</td>\n",
       "      <td>0.000077</td>\n",
       "      <td>1.775600</td>\n",
       "      <td>0.000200</td>\n",
       "      <td>0.003201</td>\n",
       "      <td>1.000000</td>\n",
       "      <td>1.0</td>\n",
       "    </tr>\n",
       "    <tr>\n",
       "      <th>25%</th>\n",
       "      <td>3.000000</td>\n",
       "      <td>1.000000</td>\n",
       "      <td>26.826621</td>\n",
       "      <td>-0.027549</td>\n",
       "      <td>0.534429</td>\n",
       "      <td>1.656457</td>\n",
       "      <td>1.460489</td>\n",
       "      <td>11.216700</td>\n",
       "      <td>0.947400</td>\n",
       "      <td>11.389700</td>\n",
       "      <td>5.502500e-01</td>\n",
       "      <td>24.020881</td>\n",
       "      <td>0.404002</td>\n",
       "      <td>1.353001</td>\n",
       "      <td>2.734952</td>\n",
       "      <td>12.079200</td>\n",
       "      <td>1.351900</td>\n",
       "      <td>0.431998</td>\n",
       "      <td>1878.750000</td>\n",
       "      <td>1.0</td>\n",
       "    </tr>\n",
       "    <tr>\n",
       "      <th>50%</th>\n",
       "      <td>5.000000</td>\n",
       "      <td>1.000000</td>\n",
       "      <td>32.408064</td>\n",
       "      <td>0.442444</td>\n",
       "      <td>1.215461</td>\n",
       "      <td>3.908167</td>\n",
       "      <td>2.378547</td>\n",
       "      <td>12.687900</td>\n",
       "      <td>1.837000</td>\n",
       "      <td>12.566600</td>\n",
       "      <td>9.854000e-01</td>\n",
       "      <td>29.840552</td>\n",
       "      <td>0.657822</td>\n",
       "      <td>2.162321</td>\n",
       "      <td>4.121040</td>\n",
       "      <td>12.907600</td>\n",
       "      <td>2.324700</td>\n",
       "      <td>0.507933</td>\n",
       "      <td>3737.500000</td>\n",
       "      <td>1.0</td>\n",
       "    </tr>\n",
       "    <tr>\n",
       "      <th>75%</th>\n",
       "      <td>7.000000</td>\n",
       "      <td>2.000000</td>\n",
       "      <td>35.721018</td>\n",
       "      <td>0.969271</td>\n",
       "      <td>2.219630</td>\n",
       "      <td>7.016831</td>\n",
       "      <td>3.591717</td>\n",
       "      <td>13.557500</td>\n",
       "      <td>2.757250</td>\n",
       "      <td>13.505450</td>\n",
       "      <td>1.602700e+00</td>\n",
       "      <td>33.572370</td>\n",
       "      <td>1.022649</td>\n",
       "      <td>3.016118</td>\n",
       "      <td>5.605162</td>\n",
       "      <td>13.717450</td>\n",
       "      <td>3.243800</td>\n",
       "      <td>0.625026</td>\n",
       "      <td>5594.000000</td>\n",
       "      <td>1.0</td>\n",
       "    </tr>\n",
       "    <tr>\n",
       "      <th>max</th>\n",
       "      <td>38.000000</td>\n",
       "      <td>2.000000</td>\n",
       "      <td>60.414369</td>\n",
       "      <td>12.815893</td>\n",
       "      <td>16.343755</td>\n",
       "      <td>11.886069</td>\n",
       "      <td>14.480546</td>\n",
       "      <td>18.700600</td>\n",
       "      <td>7.746200</td>\n",
       "      <td>18.745800</td>\n",
       "      <td>9.352600e+00</td>\n",
       "      <td>55.282098</td>\n",
       "      <td>6.730275</td>\n",
       "      <td>4.114361</td>\n",
       "      <td>9.997963</td>\n",
       "      <td>20.211000</td>\n",
       "      <td>12.995000</td>\n",
       "      <td>1.651724</td>\n",
       "      <td>9531.000000</td>\n",
       "      <td>1.0</td>\n",
       "    </tr>\n",
       "  </tbody>\n",
       "</table>\n",
       "</div>"
      ],
      "text/plain": [
       "              rally         serve         speed  net.clearance  \\\n",
       "count  10000.000000  10000.000000  10000.000000   10000.000000   \n",
       "mean       5.961000      1.397100     30.837528       0.628731   \n",
       "std        3.519789      0.489322      7.281336       0.976661   \n",
       "min        3.000000      1.000000      5.176078      -0.998184   \n",
       "25%        3.000000      1.000000     26.826621      -0.027549   \n",
       "50%        5.000000      1.000000     32.408064       0.442444   \n",
       "75%        7.000000      2.000000     35.721018       0.969271   \n",
       "max       38.000000      2.000000     60.414369      12.815893   \n",
       "\n",
       "       distance.from.sideline         depth  player.distance.travelled  \\\n",
       "count            10000.000000  10000.000000               10000.000000   \n",
       "mean                 1.470490      4.425296                   2.711269   \n",
       "std                  1.121512      3.127562                   1.723021   \n",
       "min                  0.000378      0.000282                   0.000000   \n",
       "25%                  0.534429      1.656457                   1.460489   \n",
       "50%                  1.215461      3.908167                   2.378547   \n",
       "75%                  2.219630      7.016831                   3.591717   \n",
       "max                 16.343755     11.886069                  14.480546   \n",
       "\n",
       "       player.impact.depth  player.impact.distance.from.center  player.depth  \\\n",
       "count         10000.000000                        10000.000000  10000.000000   \n",
       "mean             11.896579                            1.927651     12.267400   \n",
       "std               2.800985                            1.206538      2.039185   \n",
       "min               2.156000                            0.000200      1.389800   \n",
       "25%              11.216700                            0.947400     11.389700   \n",
       "50%              12.687900                            1.837000     12.566600   \n",
       "75%              13.557500                            2.757250     13.505450   \n",
       "max              18.700600                            7.746200     18.745800   \n",
       "\n",
       "       player.distance.from.center  previous.speed  previous.net.clearance  \\\n",
       "count                 1.000000e+04    10000.000000            10000.000000   \n",
       "mean                  1.215074e+00       28.768706                0.824491   \n",
       "std                   9.638810e-01        6.502463                0.681007   \n",
       "min                   3.330000e-17        7.192505                0.016645   \n",
       "25%                   5.502500e-01       24.020881                0.404002   \n",
       "50%                   9.854000e-01       29.840552                0.657822   \n",
       "75%                   1.602700e+00       33.572370                1.022649   \n",
       "max                   9.352600e+00       55.282098                6.730275   \n",
       "\n",
       "       previous.distance.from.sideline  previous.depth  opponent.depth  \\\n",
       "count                     10000.000000    10000.000000    10000.000000   \n",
       "mean                          2.189598        4.227238       12.623845   \n",
       "std                           1.038526        2.064763        2.070811   \n",
       "min                           0.000164        0.000077        1.775600   \n",
       "25%                           1.353001        2.734952       12.079200   \n",
       "50%                           2.162321        4.121040       12.907600   \n",
       "75%                           3.016118        5.605162       13.717450   \n",
       "max                           4.114361        9.997963       20.211000   \n",
       "\n",
       "       opponent.distance.from.center  previous.time.to.net            id  \\\n",
       "count                   10000.000000          10000.000000  10000.000000   \n",
       "mean                        2.363476              0.551299   3922.820100   \n",
       "std                         1.312900              0.189259   2464.910637   \n",
       "min                         0.000200              0.003201      1.000000   \n",
       "25%                         1.351900              0.431998   1878.750000   \n",
       "50%                         2.324700              0.507933   3737.500000   \n",
       "75%                         3.243800              0.625026   5594.000000   \n",
       "max                        12.995000              1.651724   9531.000000   \n",
       "\n",
       "         train  \n",
       "count  10000.0  \n",
       "mean       1.0  \n",
       "std        0.0  \n",
       "min        1.0  \n",
       "25%        1.0  \n",
       "50%        1.0  \n",
       "75%        1.0  \n",
       "max        1.0  "
      ]
     },
     "execution_count": 23,
     "metadata": {},
     "output_type": "execute_result"
    }
   ],
   "source": [
    "df_train = load_tennis_data('train')\n",
    "df_train.describe()"
   ]
  },
  {
   "cell_type": "markdown",
   "metadata": {},
   "source": [
    "## Rally length"
   ]
  },
  {
   "cell_type": "code",
   "execution_count": 38,
   "metadata": {},
   "outputs": [
    {
     "data": {
      "image/png": "[encoded data removed]",
      "text/plain": [
       "<matplotlib.figure.Figure at 0x7f05015d4668>"
      ]
     },
     "metadata": {},
     "output_type": "display_data"
    },
    {
     "data": {
      "text/plain": [
       "<ggplot: (-9223363308137849947)>"
      ]
     },
     "execution_count": 38,
     "metadata": {},
     "output_type": "execute_result"
    }
   ],
   "source": [
    "df_train_rally = df_train.copy()\n",
    "df_train_rally.loc[df_train_rally['rally'] > 16, 'rally'] = 16\n",
    "\n",
    "(p9.ggplot(df_train_rally, p9.aes(x='rally')) + \n",
    "    p9.geom_histogram(binwidth=2) + \n",
    "    p9.facet_wrap('~ gender + outcome'))"
   ]
  },
  {
   "cell_type": "code",
   "execution_count": 47,
   "metadata": {},
   "outputs": [
    {
     "data": {
      "text/html": [
       "<div>\n",
       "<style scoped>\n",
       "    .dataframe tbody tr th:only-of-type {\n",
       "        vertical-align: middle;\n",
       "    }\n",
       "\n",
       "    .dataframe tbody tr th {\n",
       "        vertical-align: top;\n",
       "    }\n",
       "\n",
       "    .dataframe thead th {\n",
       "        text-align: right;\n",
       "    }\n",
       "</style>\n",
       "<table border=\"1\" class=\"dataframe\">\n",
       "  <thead>\n",
       "    <tr style=\"text-align: right;\">\n",
       "      <th></th>\n",
       "      <th></th>\n",
       "      <th>count</th>\n",
       "      <th>mean</th>\n",
       "      <th>std</th>\n",
       "      <th>min</th>\n",
       "      <th>25%</th>\n",
       "      <th>50%</th>\n",
       "      <th>75%</th>\n",
       "      <th>max</th>\n",
       "    </tr>\n",
       "    <tr>\n",
       "      <th>gender</th>\n",
       "      <th>outcome</th>\n",
       "      <th></th>\n",
       "      <th></th>\n",
       "      <th></th>\n",
       "      <th></th>\n",
       "      <th></th>\n",
       "      <th></th>\n",
       "      <th></th>\n",
       "      <th></th>\n",
       "    </tr>\n",
       "  </thead>\n",
       "  <tbody>\n",
       "    <tr>\n",
       "      <th rowspan=\"3\" valign=\"top\">mens</th>\n",
       "      <th>FE</th>\n",
       "      <td>1198.0</td>\n",
       "      <td>6.189482</td>\n",
       "      <td>3.312464</td>\n",
       "      <td>3.0</td>\n",
       "      <td>4.0</td>\n",
       "      <td>5.0</td>\n",
       "      <td>8.0</td>\n",
       "      <td>16.0</td>\n",
       "    </tr>\n",
       "    <tr>\n",
       "      <th>UE</th>\n",
       "      <td>2118.0</td>\n",
       "      <td>6.083569</td>\n",
       "      <td>3.383545</td>\n",
       "      <td>3.0</td>\n",
       "      <td>3.0</td>\n",
       "      <td>5.0</td>\n",
       "      <td>8.0</td>\n",
       "      <td>16.0</td>\n",
       "    </tr>\n",
       "    <tr>\n",
       "      <th>W</th>\n",
       "      <td>1684.0</td>\n",
       "      <td>5.662708</td>\n",
       "      <td>3.222804</td>\n",
       "      <td>3.0</td>\n",
       "      <td>3.0</td>\n",
       "      <td>5.0</td>\n",
       "      <td>7.0</td>\n",
       "      <td>16.0</td>\n",
       "    </tr>\n",
       "    <tr>\n",
       "      <th rowspan=\"3\" valign=\"top\">womens</th>\n",
       "      <th>FE</th>\n",
       "      <td>1074.0</td>\n",
       "      <td>5.860335</td>\n",
       "      <td>3.115821</td>\n",
       "      <td>3.0</td>\n",
       "      <td>4.0</td>\n",
       "      <td>5.0</td>\n",
       "      <td>7.0</td>\n",
       "      <td>16.0</td>\n",
       "    </tr>\n",
       "    <tr>\n",
       "      <th>UE</th>\n",
       "      <td>2258.0</td>\n",
       "      <td>5.788751</td>\n",
       "      <td>3.049890</td>\n",
       "      <td>3.0</td>\n",
       "      <td>3.0</td>\n",
       "      <td>5.0</td>\n",
       "      <td>7.0</td>\n",
       "      <td>16.0</td>\n",
       "    </tr>\n",
       "    <tr>\n",
       "      <th>W</th>\n",
       "      <td>1668.0</td>\n",
       "      <td>5.765588</td>\n",
       "      <td>3.113466</td>\n",
       "      <td>3.0</td>\n",
       "      <td>3.0</td>\n",
       "      <td>5.0</td>\n",
       "      <td>7.0</td>\n",
       "      <td>16.0</td>\n",
       "    </tr>\n",
       "  </tbody>\n",
       "</table>\n",
       "</div>"
      ],
      "text/plain": [
       "                 count      mean       std  min  25%  50%  75%   max\n",
       "gender outcome                                                      \n",
       "mens   FE       1198.0  6.189482  3.312464  3.0  4.0  5.0  8.0  16.0\n",
       "       UE       2118.0  6.083569  3.383545  3.0  3.0  5.0  8.0  16.0\n",
       "       W        1684.0  5.662708  3.222804  3.0  3.0  5.0  7.0  16.0\n",
       "womens FE       1074.0  5.860335  3.115821  3.0  4.0  5.0  7.0  16.0\n",
       "       UE       2258.0  5.788751  3.049890  3.0  3.0  5.0  7.0  16.0\n",
       "       W        1668.0  5.765588  3.113466  3.0  3.0  5.0  7.0  16.0"
      ]
     },
     "execution_count": 47,
     "metadata": {},
     "output_type": "execute_result"
    }
   ],
   "source": [
    "df_train_rally.groupby(['gender', 'outcome'])['rally'].describe()"
   ]
  },
  {
   "cell_type": "markdown",
   "metadata": {},
   "source": [
    "## Final and penultimate shot speed"
   ]
  },
  {
   "cell_type": "code",
   "execution_count": 95,
   "metadata": {},
   "outputs": [
    {
     "data": {
      "image/png": "[encoded data removed]",
      "text/plain": [
       "<matplotlib.figure.Figure at 0x7f0501297d68>"
      ]
     },
     "metadata": {},
     "output_type": "display_data"
    },
    {
     "data": {
      "text/plain": [
       "<ggplot: (8728716246357)>"
      ]
     },
     "execution_count": 95,
     "metadata": {},
     "output_type": "execute_result"
    }
   ],
   "source": [
    "(p9.ggplot(df_train, p9.aes(x='speed')) +\n",
    "    p9.geom_histogram(bins = 60) +\n",
    "    p9.facet_grid('outcome ~ gender'))"
   ]
  },
  {
   "cell_type": "markdown",
   "metadata": {},
   "source": [
    "Forced errors come off your racket way slower than other shots. Winners come at the top pace although there may be some lob and drop shots. Unforced errors can be hit just as hard (but they probably go into the net or wide or deep)."
   ]
  },
  {
   "cell_type": "code",
   "execution_count": 96,
   "metadata": {},
   "outputs": [
    {
     "data": {
      "image/png": "[encoded data removed]",
      "text/plain": [
       "<matplotlib.figure.Figure at 0x7f0500c2bef0>"
      ]
     },
     "metadata": {},
     "output_type": "display_data"
    },
    {
     "data": {
      "text/plain": [
       "<ggplot: (8728716723425)>"
      ]
     },
     "execution_count": 96,
     "metadata": {},
     "output_type": "execute_result"
    }
   ],
   "source": [
    "(p9.ggplot(df_train, p9.aes(x='previous.speed')) +\n",
    "    p9.geom_histogram(bins = 60) +\n",
    "    p9.facet_grid('outcome ~ gender'))"
   ]
  },
  {
   "cell_type": "markdown",
   "metadata": {},
   "source": [
    "Sometimes in a rally, you just mess up. On average, forced errors are caused by a little more pace on your opponent's shot. Winners come after significantly slower shots."
   ]
  },
  {
   "cell_type": "markdown",
   "metadata": {},
   "source": [
    "## Shot type"
   ]
  },
  {
   "cell_type": "code",
   "execution_count": 88,
   "metadata": {},
   "outputs": [
    {
     "data": {
      "image/png": "[encoded data removed]",
      "text/plain": [
       "<matplotlib.figure.Figure at 0x7f0501137b38>"
      ]
     },
     "metadata": {},
     "output_type": "display_data"
    },
    {
     "data": {
      "text/plain": [
       "<ggplot: (8728716657398)>"
      ]
     },
     "execution_count": 88,
     "metadata": {},
     "output_type": "execute_result"
    }
   ],
   "source": [
    "df_train_hitpoint_counts = df_train.groupby(['gender', 'hitpoint'])['rally'].count()\n",
    "df_train_hitpoint = (df_train_hitpoint_counts / df_train_hitpoint_counts.groupby(['gender']) \\\n",
    "                     .transform(sum)).reset_index()\n",
    "\n",
    "\n",
    "(p9.ggplot(df_train_hitpoint, p9.aes(x = 'hitpoint', y = 'rally')) +\n",
    "    p9.geom_bar(stat = 'identity')  +\n",
    "    p9.facet_wrap('~ gender') +\n",
    "    p9.labs(title = 'Final hitpoint'))"
   ]
  },
  {
   "cell_type": "code",
   "execution_count": 89,
   "metadata": {},
   "outputs": [
    {
     "data": {
      "image/png": "[encoded data removed]",
      "text/plain": [
       "<matplotlib.figure.Figure at 0x7f0500ed5da0>"
      ]
     },
     "metadata": {},
     "output_type": "display_data"
    },
    {
     "data": {
      "text/plain": [
       "<ggplot: (-9223363308138061403)>"
      ]
     },
     "execution_count": 89,
     "metadata": {},
     "output_type": "execute_result"
    }
   ],
   "source": [
    "df_train_hitpoint_counts = df_train.groupby(['gender', 'previous.hitpoint'])['rally'].count()\n",
    "df_train_hitpoint = (df_train_hitpoint_counts / df_train_hitpoint_counts.groupby(['gender']) \\\n",
    "                     .transform(sum)).reset_index()\n",
    "\n",
    "\n",
    "(p9.ggplot(df_train_hitpoint, p9.aes(x = 'previous.hitpoint', y = 'rally')) +\n",
    "    p9.geom_bar(stat = 'identity')  +\n",
    "    p9.facet_wrap('~ gender') +\n",
    "    p9.labs(title = 'Penultimate hitpoint'))"
   ]
  },
  {
   "cell_type": "code",
   "execution_count": 83,
   "metadata": {},
   "outputs": [
    {
     "data": {
      "image/png": "[encoded data removed]",
      "text/plain": [
       "<matplotlib.figure.Figure at 0x7f050177f940>"
      ]
     },
     "metadata": {},
     "output_type": "display_data"
    },
    {
     "data": {
      "text/plain": [
       "<ggplot: (8728716648989)>"
      ]
     },
     "execution_count": 83,
     "metadata": {},
     "output_type": "execute_result"
    }
   ],
   "source": [
    "df_train_hitpoint_counts = df_train.groupby(['gender', 'hitpoint', 'outcome'])['rally'].count()\n",
    "df_train_hitpoint = (df_train_hitpoint_counts / df_train_hitpoint_counts.groupby(['gender', 'hitpoint']) \\\n",
    "                     .transform(sum)).reset_index()\n",
    "\n",
    "\n",
    "(p9.ggplot(df_train_hitpoint, p9.aes(x = 'hitpoint', y = 'rally', fill = 'outcome')) +\n",
    "    p9.geom_bar(stat = 'identity')  +\n",
    "    p9.facet_wrap('~ gender') +\n",
    "    p9.labs(title = 'Final hitpoint by outcome'))"
   ]
  },
  {
   "cell_type": "code",
   "execution_count": 87,
   "metadata": {},
   "outputs": [
    {
     "data": {
      "image/png": "[encoded data removed]",
      "text/plain": [
       "<matplotlib.figure.Figure at 0x7f0501677518>"
      ]
     },
     "metadata": {},
     "output_type": "display_data"
    },
    {
     "data": {
      "text/plain": [
       "<ggplot: (8728720998955)>"
      ]
     },
     "execution_count": 87,
     "metadata": {},
     "output_type": "execute_result"
    }
   ],
   "source": [
    "df_train_penult_hitpoint_counts = df_train.groupby(['gender', 'previous.hitpoint', 'outcome'])['rally'].count()\n",
    "df_train_penult_hitpoint = (df_train_penult_hitpoint_counts / df_train_penult_hitpoint_counts.groupby(['gender', 'previous.hitpoint']) \\\n",
    "                            .transform(sum)).reset_index()\n",
    "\n",
    "\n",
    "(p9.ggplot(df_train_penult_hitpoint, p9.aes(x = 'previous.hitpoint', y = 'rally', fill = 'outcome')) +\n",
    "    p9.geom_bar(stat = 'identity')  +\n",
    "    p9.facet_wrap('~ gender') +\n",
    "    p9.labs(title = 'Penultimate hitpoint'))"
   ]
  },
  {
   "cell_type": "markdown",
   "metadata": {},
   "source": [
    "## Defining what a winner is"
   ]
  },
  {
   "cell_type": "markdown",
   "metadata": {},
   "source": [
    "A winner _should_ be defined as a shot that is untouched by your opponent that goes over the net and lands inside the baseline and sidelines. Let's see if there is any variance in the HawkEye sensor data...\n",
    "\n",
    "Maybe we should consider cases where the ball clips the net and drops in for a winner."
   ]
  },
  {
   "cell_type": "code",
   "execution_count": 114,
   "metadata": {},
   "outputs": [],
   "source": [
    "# net.clearance (> 0)\n",
    "# outside.sideline (False)\n",
    "# outside.baseline (False)\n",
    "\n",
    "df_train['clears_net'] = df_train['net.clearance'] > 0\n",
    "df_train['expected_winner'] = df_train['clears_net'] & -df_train['outside.sideline'] & -df_train['outside.baseline']"
   ]
  },
  {
   "cell_type": "code",
   "execution_count": 115,
   "metadata": {},
   "outputs": [
    {
     "data": {
      "text/plain": [
       "outcome\n",
       "FE    0.562940\n",
       "UE    0.609004\n",
       "W     0.981802\n",
       "Name: clears_net, dtype: float64"
      ]
     },
     "execution_count": 115,
     "metadata": {},
     "output_type": "execute_result"
    }
   ],
   "source": [
    "df_train.groupby('outcome')['clears_net'].mean()"
   ]
  },
  {
   "cell_type": "code",
   "execution_count": 125,
   "metadata": {},
   "outputs": [
    {
     "data": {
      "text/plain": [
       "outcome  expected_winner\n",
       "FE       False              0.900968\n",
       "         True               0.099032\n",
       "UE       False              0.934644\n",
       "         True               0.065356\n",
       "W        False              0.026551\n",
       "         True               0.973449\n",
       "Name: rally, dtype: float64"
      ]
     },
     "execution_count": 125,
     "metadata": {},
     "output_type": "execute_result"
    }
   ],
   "source": [
    "df_train_counts = df_train.groupby(['outcome', 'expected_winner'])['rally'].count()\n",
    "(df_train_counts / df_train_counts.groupby(['outcome']) \\\n",
    "                     .transform(sum))"
   ]
  },
  {
   "cell_type": "code",
   "execution_count": 130,
   "metadata": {},
   "outputs": [
    {
     "data": {
      "text/plain": [
       "expected_winner  outcome\n",
       "False            FE         0.328783\n",
       "                 UE         0.656923\n",
       "                 W          0.014295\n",
       "True             FE         0.059618\n",
       "                 UE         0.075782\n",
       "                 W          0.864600\n",
       "Name: rally, dtype: float64"
      ]
     },
     "execution_count": 130,
     "metadata": {},
     "output_type": "execute_result"
    }
   ],
   "source": [
    "df_train_counts = df_train.groupby(['expected_winner', 'outcome'])['rally'].count()\n",
    "(df_train_counts / df_train_counts.groupby(['expected_winner']) \\\n",
    "                     .transform(sum))"
   ]
  },
  {
   "cell_type": "markdown",
   "metadata": {},
   "source": [
    "13.5% of \"expected winners\" are not actually winners. This could be a result of faulty sensor data and bad, unchallenged line calls."
   ]
  },
  {
   "cell_type": "code",
   "execution_count": 128,
   "metadata": {},
   "outputs": [
    {
     "data": {
      "text/plain": [
       "outcome  expected_winner  clears_net\n",
       "FE       False            False         0.485100\n",
       "                          True          0.514900\n",
       "         True             True          1.000000\n",
       "UE       False            False         0.418337\n",
       "                          True          0.581663\n",
       "         True             True          1.000000\n",
       "W        False            False         0.685393\n",
       "                          True          0.314607\n",
       "         True             True          1.000000\n",
       "Name: rally, dtype: float64"
      ]
     },
     "execution_count": 128,
     "metadata": {},
     "output_type": "execute_result"
    }
   ],
   "source": [
    "df_train_counts = df_train.groupby(['outcome', 'expected_winner', 'clears_net'])['rally'].count()\n",
    "(df_train_counts / df_train_counts.groupby(['outcome', 'expected_winner']) \\\n",
    "                     .transform(sum))"
   ]
  },
  {
   "cell_type": "code",
   "execution_count": null,
   "metadata": {
    "collapsed": true
   },
   "outputs": [],
   "source": []
  }
 ],
 "metadata": {
  "kernelspec": {
   "display_name": "Python 3",
   "language": "python",
   "name": "python3"
  },
  "language_info": {
   "codemirror_mode": {
    "name": "ipython",
    "version": 3
   },
   "file_extension": ".py",
   "mimetype": "text/x-python",
   "name": "python",
   "nbconvert_exporter": "python",
   "pygments_lexer": "ipython3",
   "version": "3.6.2"
  }
 },
 "nbformat": 4,
 "nbformat_minor": 2
}
