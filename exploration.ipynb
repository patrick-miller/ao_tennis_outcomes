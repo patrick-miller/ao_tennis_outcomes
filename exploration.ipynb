{
 "cells": [
  {
   "cell_type": "code",
   "execution_count": null,
   "metadata": {
    "collapsed": true
   },
   "outputs": [],
   "source": [
    "import warnings\n",
    "warnings.filterwarnings('ignore')\n",
    "\n",
    "import os\n",
    "import numpy as np\n",
    "import pandas as pd\n",
    "import plotnine as p9\n",
    "\n",
    "import matplotlib.pyplot as plt\n",
    "import seaborn as sns\n",
    "\n",
    "np.set_printoptions(threshold=50, edgeitems=20)\n",
    "%matplotlib inline\n",
    "\n",
    "EPS = 0.00001"
   ]
  },
  {
   "cell_type": "code",
   "execution_count": null,
   "metadata": {
    "collapsed": true
   },
   "outputs": [],
   "source": [
    "def load_tennis_data(partition='train', data_dir='data/', train_data = None, save=True):\n",
    "    df_mens = pd.read_csv(os.path.join(data_dir, 'mens_%s_file.csv' % partition))\n",
    "    df_womens = pd.read_csv(os.path.join(data_dir, 'womens_%s_file.csv' % partition))\n",
    "    \n",
    "    df = df_mens.append(df_womens)\n",
    "    df.columns = [col.replace('.', '_') for col in df.columns]\n",
    "    \n",
    "    # Is the point an expected winner?\n",
    "    ## net.clearance (> 0)\n",
    "    ## outside.sideline (False)\n",
    "    ## outside.baseline (False)  \n",
    "    \n",
    "    df['clears_net'] = df['net_clearance'] > 0\n",
    "    df['expected_winner'] = df['clears_net'] & -df['outside_sideline'] & -df['outside_baseline']   \n",
    "    \n",
    "    log_vars = [\"speed\", \"previous_speed\",\n",
    "                \"net_clearance\", \"previous_net_clearance\",\n",
    "                \"depth\", \"previous_depth\",\n",
    "                \"distance_from_sideline\", \"previous_distance_from_sideline\",\n",
    "                \"player_distance_travelled\",\n",
    "                \"player_depth\", \"player_impact_depth\", \"opponent_depth\",\n",
    "                \"player_distance_from_center\", \"player_impact_distance_from_center\", \"opponent_distance_from_center\",\n",
    "                \"previous_time_to_net\"]\n",
    "    \n",
    "    # Define categorical variables\n",
    "    categorical_vars = [\"outcome\", \"serve\", \"hitpoint\", \"outside_sideline\",\n",
    "                       \"outside_baseline\", \"same_side\", \"previous_hitpoint\",\n",
    "                       \"server_is_impact_player\", \"gender\", \"clears_net\", \"expected_winner\"]\n",
    "    \n",
    "    if train_data is not None:\n",
    "        structured.apply_cats(df, train_data)\n",
    "    else:\n",
    "        for cat_var in categorical_vars: \n",
    "            df[cat_var] = df[cat_var].astype('category').cat.as_ordered()\n",
    "        \n",
    "    # Make floats\n",
    "    for col in df.columns:\n",
    "        if df[col].dtype == 'float64':\n",
    "            df[col] = df[col].astype('float32')\n",
    "        \n",
    "    df.reset_index(inplace=True)\n",
    "    \n",
    "    # Drop certain variables\n",
    "    if partition != 'test':\n",
    "        drop_vars = ['train', 'index']\n",
    "    else:\n",
    "        drop_vars = ['train', 'index']\n",
    "    \n",
    "    df = df.drop(drop_vars, axis=1)\n",
    "    \n",
    "    # Log variables\n",
    "    for var in log_vars:\n",
    "        df[f'log_{var}'] = np.log(abs(df[var]) + EPS)\n",
    "        \n",
    "    # Output data\n",
    "    if save:\n",
    "        df.to_feather(os.path.join(data_dir, 'input/', f'{partition}_clean'), )\n",
    "    \n",
    "    return df "
   ]
  },
  {
   "cell_type": "markdown",
   "metadata": {},
   "source": [
    "## Load training data"
   ]
  },
  {
   "cell_type": "code",
   "execution_count": null,
   "metadata": {
    "collapsed": true
   },
   "outputs": [],
   "source": [
    "df_train = load_tennis_data('train', save=False)\n",
    "# df_test = load_tennis_data('test', train_data = df_train, save=False)\n",
    "\n",
    "# df_test.dtypes"
   ]
  },
  {
   "cell_type": "code",
   "execution_count": null,
   "metadata": {
    "collapsed": true
   },
   "outputs": [],
   "source": [
    "df_train['rally'] = df_train['rally'].astype('float32')\n",
    "df_train['clears_net'] = df_train['clears_net'].astype('int32')"
   ]
  },
  {
   "cell_type": "code",
   "execution_count": null,
   "metadata": {},
   "outputs": [],
   "source": [
    "df_train['is_forced_error'] = df_train['outcome'] == 'FE'\n",
    "df_train['is_unforced_error'] = df_train['outcome'] == 'UE'\n",
    "df_train['is_winner'] = df_train['outcome'] == 'W'\n",
    "\n",
    "remove_vars = [\"serve\", \"hitpoint\", \"outside_sideline\",               \n",
    "               \"outside_baseline\", \"same_side\", \"previous_hitpoint\",\n",
    "               \"server_is_impact_player\", \"gender\",\n",
    "               \"clears_net\"]\n",
    "log_vars = [col for col in df_train.columns if not col.find('log_')]\n",
    "\n",
    "plot_cols = df_train.drop(remove_vars + log_vars, axis=1).columns.tolist()\n",
    "\n",
    "corrmat = df_train[plot_cols].corr()\n",
    "f, ax = plt.subplots(figsize=(12, 9))\n",
    "sns.heatmap(corrmat[['is_forced_error', 'is_unforced_error', 'is_winner']], \n",
    "            vmax=0.8, square=True, center = 0);"
   ]
  },
  {
   "cell_type": "markdown",
   "metadata": {},
   "source": [
    "* Winner: long previous time to net, high previous shot, slow previous speed, not returned from deep, hit toward the sideline\n",
    "* Unforced error: high speed, hit from deep, opponent is deep\n",
    "* Forced error: low speed, previous shot close to sideline, previous shot hit hard"
   ]
  },
  {
   "cell_type": "code",
   "execution_count": null,
   "metadata": {},
   "outputs": [],
   "source": [
    "(p9.ggplot(df_train, p9.aes(x = 'previous_time_to_net', fill = 'outcome')) +\n",
    "    p9.geom_density(alpha = 0.4) +\n",
    "    p9.labs(title = 'Outcome by previous time to net'))"
   ]
  },
  {
   "cell_type": "code",
   "execution_count": null,
   "metadata": {},
   "outputs": [],
   "source": [
    "(p9.ggplot(df_train, p9.aes(x = 'previous_speed', fill = 'outcome')) +\n",
    "    p9.geom_density(alpha = 0.4) +\n",
    "    p9.labs(title = 'Outcome by previous speed'))"
   ]
  },
  {
   "cell_type": "code",
   "execution_count": null,
   "metadata": {},
   "outputs": [],
   "source": [
    "(p9.ggplot(df_train, p9.aes(x = 'player_impact_depth', fill = 'outcome')) +\n",
    "    p9.geom_density(alpha = 0.4) +\n",
    "    p9.labs(title = 'Outcome by player impact depth'))"
   ]
  },
  {
   "cell_type": "code",
   "execution_count": null,
   "metadata": {},
   "outputs": [],
   "source": [
    "(p9.ggplot(df_train, p9.aes(x = 'distance_from_sideline', fill = 'outcome')) +\n",
    "    p9.geom_density(alpha = 0.4) +\n",
    "    p9.labs(title = 'Outcome by distance from sideline'))"
   ]
  },
  {
   "cell_type": "code",
   "execution_count": null,
   "metadata": {},
   "outputs": [],
   "source": [
    "(p9.ggplot(df_train, p9.aes(x = 'previous_distance_from_sideline', fill = 'outcome')) +\n",
    "    p9.geom_density(alpha = 0.4) +\n",
    "    p9.labs(title = 'Outcome by previous distance from sideline'))"
   ]
  },
  {
   "cell_type": "code",
   "execution_count": null,
   "metadata": {},
   "outputs": [],
   "source": [
    "(p9.ggplot(df_train, p9.aes(x = 'speed', fill = 'outcome')) +\n",
    "    p9.geom_density(alpha = 0.4) +\n",
    "    p9.labs(title = 'Outcome by speed'))"
   ]
  },
  {
   "cell_type": "markdown",
   "metadata": {},
   "source": [
    "## Rally length"
   ]
  },
  {
   "cell_type": "code",
   "execution_count": null,
   "metadata": {},
   "outputs": [],
   "source": [
    "df_train_rally = df_train.copy()\n",
    "df_train_rally.loc[df_train_rally['rally'] > 16, 'rally'] = 16\n",
    "\n",
    "(p9.ggplot(df_train_rally, p9.aes(x='rally')) + \n",
    "    p9.geom_histogram(binwidth=2) + \n",
    "    p9.facet_wrap('~ gender + outcome'))"
   ]
  },
  {
   "cell_type": "code",
   "execution_count": null,
   "metadata": {},
   "outputs": [],
   "source": [
    "df_train_rally.groupby(['gender', 'outcome'])['rally'].describe()"
   ]
  },
  {
   "cell_type": "markdown",
   "metadata": {},
   "source": [
    "## Final and penultimate shot speed"
   ]
  },
  {
   "cell_type": "code",
   "execution_count": null,
   "metadata": {},
   "outputs": [],
   "source": [
    "(p9.ggplot(df_train, p9.aes(x='speed')) +\n",
    "    p9.geom_histogram(bins = 60) +\n",
    "    p9.facet_grid('outcome ~ gender'))"
   ]
  },
  {
   "cell_type": "markdown",
   "metadata": {},
   "source": [
    "Forced errors come off your racket way slower than other shots. Winners come at the top pace although there may be some lob and drop shots. Unforced errors can be hit just as hard (but they probably go into the net or wide or deep)."
   ]
  },
  {
   "cell_type": "code",
   "execution_count": null,
   "metadata": {},
   "outputs": [],
   "source": [
    "(p9.ggplot(df_train, p9.aes(x='previous_speed')) +\n",
    "    p9.geom_histogram(bins = 60) +\n",
    "    p9.facet_grid('outcome ~ gender'))"
   ]
  },
  {
   "cell_type": "markdown",
   "metadata": {},
   "source": [
    "Sometimes in a rally, you just mess up. On average, forced errors are caused by a little more pace on your opponent's shot. Winners come after significantly slower shots."
   ]
  },
  {
   "cell_type": "markdown",
   "metadata": {},
   "source": [
    "## Shot type"
   ]
  },
  {
   "cell_type": "code",
   "execution_count": null,
   "metadata": {},
   "outputs": [],
   "source": [
    "df_train_hitpoint_counts = df_train.groupby(['gender', 'hitpoint'])['rally'].count()\n",
    "df_train_hitpoint = (df_train_hitpoint_counts / df_train_hitpoint_counts.groupby(['gender']) \\\n",
    "                     .transform(sum)).reset_index()\n",
    "\n",
    "\n",
    "(p9.ggplot(df_train_hitpoint, p9.aes(x = 'hitpoint', y = 'rally')) +\n",
    "    p9.geom_bar(stat = 'identity')  +\n",
    "    p9.facet_wrap('~ gender') +\n",
    "    p9.labs(title = 'Final hitpoint'))"
   ]
  },
  {
   "cell_type": "code",
   "execution_count": null,
   "metadata": {},
   "outputs": [],
   "source": [
    "df_train_hitpoint_counts = df_train.groupby(['gender', 'previous_hitpoint'])['rally'].count()\n",
    "df_train_hitpoint = (df_train_hitpoint_counts / df_train_hitpoint_counts.groupby(['gender']) \\\n",
    "                     .transform(sum)).reset_index()\n",
    "\n",
    "\n",
    "(p9.ggplot(df_train_hitpoint, p9.aes(x = 'previous_hitpoint', y = 'rally')) +\n",
    "    p9.geom_bar(stat = 'identity')  +\n",
    "    p9.facet_wrap('~ gender') +\n",
    "    p9.labs(title = 'Penultimate hitpoint'))"
   ]
  },
  {
   "cell_type": "code",
   "execution_count": null,
   "metadata": {},
   "outputs": [],
   "source": [
    "df_train_hitpoint_counts = df_train.groupby(['gender', 'hitpoint', 'outcome'])['rally'].count()\n",
    "df_train_hitpoint = (df_train_hitpoint_counts / df_train_hitpoint_counts.groupby(['gender', 'hitpoint']) \\\n",
    "                     .transform(sum)).reset_index()\n",
    "\n",
    "\n",
    "(p9.ggplot(df_train_hitpoint, p9.aes(x = 'hitpoint', y = 'rally', fill = 'outcome')) +\n",
    "    p9.geom_bar(stat = 'identity')  +\n",
    "    p9.facet_wrap('~ gender') +\n",
    "    p9.labs(title = 'Final hitpoint by outcome'))"
   ]
  },
  {
   "cell_type": "code",
   "execution_count": null,
   "metadata": {},
   "outputs": [],
   "source": [
    "df_train_penult_hitpoint_counts = df_train.groupby(['gender', 'previous_hitpoint', 'outcome'])['rally'].count()\n",
    "df_train_penult_hitpoint = (df_train_penult_hitpoint_counts / df_train_penult_hitpoint_counts.groupby(['gender', 'previous_hitpoint']) \\\n",
    "                            .transform(sum)).reset_index()\n",
    "\n",
    "\n",
    "(p9.ggplot(df_train_penult_hitpoint, p9.aes(x = 'previous_hitpoint', y = 'rally', fill = 'outcome')) +\n",
    "    p9.geom_bar(stat = 'identity')  +\n",
    "    p9.facet_wrap('~ gender') +\n",
    "    p9.labs(title = 'Penultimate hitpoint'))"
   ]
  },
  {
   "cell_type": "markdown",
   "metadata": {},
   "source": [
    "## Defining what a winner is"
   ]
  },
  {
   "cell_type": "markdown",
   "metadata": {},
   "source": [
    "A winner _should_ be defined as a shot that is untouched by your opponent that goes over the net and lands inside the baseline and sidelines. Let's see if there is any variance in the HawkEye sensor data...\n",
    "\n",
    "Maybe we should consider cases where the ball clips the net and drops in for a winner."
   ]
  },
  {
   "cell_type": "code",
   "execution_count": null,
   "metadata": {},
   "outputs": [],
   "source": [
    "df_train.groupby('outcome').mean()"
   ]
  },
  {
   "cell_type": "code",
   "execution_count": null,
   "metadata": {},
   "outputs": [],
   "source": [
    "df_train_counts = df_train.groupby(['outcome', 'expected_winner'])['rally'].count()\n",
    "(df_train_counts / df_train_counts.groupby(['outcome']) \\\n",
    "                     .transform(sum))"
   ]
  },
  {
   "cell_type": "code",
   "execution_count": null,
   "metadata": {},
   "outputs": [],
   "source": [
    "df_train_counts = df_train.groupby(['expected_winner', 'outcome'])['rally'].count()\n",
    "(df_train_counts / df_train_counts.groupby(['expected_winner']) \\\n",
    "                     .transform(sum))"
   ]
  },
  {
   "cell_type": "markdown",
   "metadata": {},
   "source": [
    "13.5% of \"expected winners\" are not actually winners. This could be a result of faulty sensor data and bad, unchallenged line calls."
   ]
  },
  {
   "cell_type": "code",
   "execution_count": null,
   "metadata": {},
   "outputs": [],
   "source": [
    "df_train['faulty_expected_winner'] = (df_train['expected_winner'] == True) & (df_train['outcome'] != 'W')\n",
    "\n",
    "df_expected_winner = df_train[df_train['expected_winner'] == True]\n",
    "df_expected_winner.groupby('faulty_expected_winner')['rally'].count()"
   ]
  },
  {
   "cell_type": "markdown",
   "metadata": {},
   "source": [
    "These shots sometimes have very large net clearance, some lower speed, higher previous speed"
   ]
  },
  {
   "cell_type": "code",
   "execution_count": null,
   "metadata": {
    "collapsed": true
   },
   "outputs": [],
   "source": [
    "remove_vars = [\"serve\", \"hitpoint\", \"outside_sideline\",\n",
    "               \"outside_baseline\", \"same_side\", \"previous_hitpoint\",\n",
    "               \"server_is_impact_player\", \"gender\",\n",
    "               \"clears_net\", \"expected_winner\",\n",
    "               \"outcome\", \"faulty_expected_winner\"]\n",
    "log_vars = [col for col in df_train.columns if not col.find('log_')]\n",
    "plot_cols = df_train.drop(remove_vars + log_vars, axis=1).columns.tolist()\n",
    "\n",
    "plot_df = pd.melt(df_expected_winner, id_vars = ['faulty_expected_winner'], value_vars = plot_cols)\n",
    "# plot_df.groupby(['faulty_expected_winner', 'variable'])['value'].describe()"
   ]
  },
  {
   "cell_type": "code",
   "execution_count": null,
   "metadata": {},
   "outputs": [],
   "source": [
    "(p9.ggplot(df_expected_winner, p9.aes(x = 'log_net_clearance', fill = 'faulty_expected_winner')) +\n",
    "    p9.geom_density(alpha = 0.4) +\n",
    "    p9.labs(title = 'Faulty expected winner by net clearance'))"
   ]
  },
  {
   "cell_type": "code",
   "execution_count": null,
   "metadata": {},
   "outputs": [],
   "source": [
    "(p9.ggplot(df_expected_winner, p9.aes(x = 'previous_speed', y = 'speed', color = 'faulty_expected_winner')) +\n",
    "    p9.geom_point() +\n",
    "    p9.labs(title = 'Faulty expected winner by speed'))"
   ]
  },
  {
   "cell_type": "code",
   "execution_count": null,
   "metadata": {
    "collapsed": true
   },
   "outputs": [],
   "source": [
    "# (p9.ggplot(plot_df, p9.aes(x = 'value', fill = 'faulty_expected_winner')) +\n",
    "#     p9.geom_density(alpha = 0.4) +\n",
    "#     p9.facet_wrap('~ variable', scales='free') +\n",
    "#     p9.labs(title = 'Distributions by faulty expected winner') +\n",
    "#     p9.theme(strip_text=p9.element_text(size = 4)))"
   ]
  },
  {
   "cell_type": "markdown",
   "metadata": {},
   "source": [
    "## Locations"
   ]
  },
  {
   "cell_type": "code",
   "execution_count": null,
   "metadata": {},
   "outputs": [],
   "source": [
    "(p9.ggplot(df_train[df_train['net_clearance'] < 5], p9.aes(x = 'log_net_clearance')) +\n",
    "    p9.geom_histogram()  +\n",
    "    p9.facet_grid('outcome~clears_net') +\n",
    "    p9.labs(title = 'Outcome by net clearance\\ndoes it clear net?'))"
   ]
  },
  {
   "cell_type": "code",
   "execution_count": null,
   "metadata": {},
   "outputs": [],
   "source": [
    "(p9.ggplot(df_train, p9.aes(x = 'log_distance_from_sideline')) +\n",
    "    p9.geom_histogram()  +\n",
    "    p9.facet_grid('outcome~outside_sideline') +\n",
    "    p9.labs(title = 'Outcome by distance from sideline\\nis it inbounds?'))"
   ]
  },
  {
   "cell_type": "code",
   "execution_count": null,
   "metadata": {},
   "outputs": [],
   "source": [
    "(p9.ggplot(df_train, p9.aes(x = 'log_depth')) +\n",
    "    p9.geom_histogram()  +\n",
    "    p9.facet_grid('outcome~clears_net') +\n",
    "    p9.labs(title = 'Outcome by distance from baseline\\ndoes it clear net?'))"
   ]
  },
  {
   "cell_type": "code",
   "execution_count": null,
   "metadata": {},
   "outputs": [],
   "source": [
    "(p9.ggplot(df_train, p9.aes(x = 'player_distance_travelled')) +\n",
    "    p9.geom_histogram() +\n",
    "    p9.facet_wrap('~outcome', ncol=1) +\n",
    "    p9.labs(title = 'Outcome by player distance travelled'))"
   ]
  },
  {
   "cell_type": "code",
   "execution_count": null,
   "metadata": {},
   "outputs": [],
   "source": [
    "(p9.ggplot(df_train, p9.aes(x = 'log_player_depth')) +\n",
    "    p9.geom_histogram(bins = 20) +\n",
    "    p9.facet_grid('hitpoint~outcome', scales='free') +\n",
    "    p9.labs(title = 'Outcome by player depth'))"
   ]
  },
  {
   "cell_type": "code",
   "execution_count": null,
   "metadata": {},
   "outputs": [],
   "source": [
    "(p9.ggplot(df_train, p9.aes(x = 'log_player_impact_depth')) +\n",
    "    p9.geom_histogram(bins = 20) +\n",
    "    p9.facet_grid('hitpoint~outcome', scales='free') +\n",
    "    p9.labs(title = 'Outcome by player impact depth'))"
   ]
  },
  {
   "cell_type": "code",
   "execution_count": null,
   "metadata": {},
   "outputs": [],
   "source": [
    "(p9.ggplot(df_train, p9.aes(x = 'player_depth', y = 'player_impact_depth')) +\n",
    "    p9.geom_point(size = 0.5, alpha = 0.4) +\n",
    "    p9.facet_grid('hitpoint~outcome', scales='free') +\n",
    "    p9.labs(title = 'Outcome by player depth vs. impact depth\\nhitpoint'))"
   ]
  },
  {
   "cell_type": "code",
   "execution_count": null,
   "metadata": {},
   "outputs": [],
   "source": [
    "(p9.ggplot(df_train, p9.aes(x = 'player_distance_from_center')) +\n",
    "    p9.geom_histogram() +\n",
    "    p9.facet_wrap('~outcome', ncol=1) +\n",
    "    p9.labs(title = 'Outcome by player distance from center'))"
   ]
  },
  {
   "cell_type": "code",
   "execution_count": null,
   "metadata": {},
   "outputs": [],
   "source": [
    "(p9.ggplot(df_train, p9.aes(x = 'previous_distance_from_sideline')) +\n",
    "    p9.geom_histogram() +\n",
    "    p9.facet_wrap('~outcome', ncol=1) +\n",
    "    p9.labs(title = 'Outcome by previous distance from sideline'))"
   ]
  },
  {
   "cell_type": "code",
   "execution_count": null,
   "metadata": {},
   "outputs": [],
   "source": [
    "(p9.ggplot(df_train, p9.aes(x = 'previous_depth')) +\n",
    "    p9.geom_histogram() +\n",
    "    p9.facet_wrap('~outcome', ncol=1) +\n",
    "    p9.labs(title = 'Outcome by previous depth'))"
   ]
  },
  {
   "cell_type": "code",
   "execution_count": null,
   "metadata": {},
   "outputs": [],
   "source": [
    "(p9.ggplot(df_train, p9.aes(x = 'previous_depth', y = 'log_previous_net_clearance')) +\n",
    "    p9.geom_point() +\n",
    "    p9.facet_wrap('~outcome', ncol=1) +\n",
    "    p9.labs(title = 'Outcome by previous depth and net clearance'))"
   ]
  },
  {
   "cell_type": "code",
   "execution_count": null,
   "metadata": {},
   "outputs": [],
   "source": [
    "(p9.ggplot(df_train, p9.aes(x = 'opponent_distance_from_center')) +\n",
    "    p9.geom_histogram() +\n",
    "    p9.facet_grid('outcome~same_side') +\n",
    "    p9.labs(title = 'Outcome by opponent distance from center\\non same side?'))"
   ]
  },
  {
   "cell_type": "code",
   "execution_count": null,
   "metadata": {},
   "outputs": [],
   "source": [
    "(p9.ggplot(df_train, p9.aes(x = 'opponent_distance_from_center', y = 'opponent_depth')) +\n",
    "    p9.geom_point() +\n",
    "    p9.facet_grid('outcome~same_side') +\n",
    "    p9.labs(title = 'Outcome by opponent distance and depth\\non same side?'))"
   ]
  },
  {
   "cell_type": "code",
   "execution_count": null,
   "metadata": {},
   "outputs": [],
   "source": [
    "(p9.ggplot(df_train, p9.aes(x = 'log_previous_time_to_net')) +\n",
    "    p9.geom_histogram() +\n",
    "    p9.facet_wrap('~outcome', ncol=1) +\n",
    "    p9.labs(title = 'Outcome by previous depth'))"
   ]
  }
 ],
 "metadata": {
  "kernelspec": {
   "display_name": "Python 3",
   "language": "python",
   "name": "python3"
  },
  "language_info": {
   "codemirror_mode": {
    "name": "ipython",
    "version": 3
   },
   "file_extension": ".py",
   "mimetype": "text/x-python",
   "name": "python",
   "nbconvert_exporter": "python",
   "pygments_lexer": "ipython3",
   "version": "3.6.2"
  }
 },
 "nbformat": 4,
 "nbformat_minor": 2
}
